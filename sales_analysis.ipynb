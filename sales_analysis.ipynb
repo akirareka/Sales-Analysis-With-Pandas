{
 "cells": [
  {
   "cell_type": "code",
   "execution_count": 1,
   "id": "5f3f2578",
   "metadata": {},
   "outputs": [],
   "source": [
    "### Data Analysis menggunakan Python Pandas\n",
    "### Data Visualization menggunakan Matplotlib\n",
    "### Dataset yang digunakan: Data Sales Januari - Desember 2019\n",
    "\n",
    "## Pertanyaan 1: Kota apa yang memberikan penjualan terbanyak selama satu tahun?\n",
    "## Pertanyaan 2: Pada bulan apakah penjualan terbanyak dan berapa yang didapatkan?\n",
    "## Pertanyaan 3: Pada pukul berapa iklan harus lebih banyak ditampilkan?\n",
    "## Pertanyaan 4: Product apa yang terjual paling banyak?"
   ]
  },
  {
   "cell_type": "code",
   "execution_count": 2,
   "id": "f1b5e7af",
   "metadata": {},
   "outputs": [],
   "source": [
    "## Mengimport library yang dibutuhkan untuk melakukan analisis"
   ]
  },
  {
   "cell_type": "code",
   "execution_count": 3,
   "id": "66356a91",
   "metadata": {},
   "outputs": [],
   "source": [
    "import pandas as pd\n",
    "import matplotlib.pyplot as plt\n",
    "import seaborn as sns\n",
    "sns.set()\n",
    "import os"
   ]
  },
  {
   "cell_type": "code",
   "execution_count": 4,
   "id": "333f18b5",
   "metadata": {},
   "outputs": [],
   "source": [
    "## Menggabungkan data sales perbulan menjadi satu file dataset"
   ]
  },
  {
   "cell_type": "code",
   "execution_count": 5,
   "id": "f9b8506b",
   "metadata": {},
   "outputs": [],
   "source": [
    "df = pd.read_csv(\"./sales_data/Sales_April_2019.csv\")\n",
    "\n",
    "files = [file for file in os.listdir('./sales_data')]\n",
    "\n",
    "semua_data = pd.DataFrame()\n",
    "\n",
    "for file in files:\n",
    "    df = pd.read_csv(\"./sales_data/\"+file)\n",
    "    semua_data = pd.concat([semua_data, df])"
   ]
  },
  {
   "cell_type": "code",
   "execution_count": 6,
   "id": "713f0d05",
   "metadata": {},
   "outputs": [],
   "source": [
    "## Mengeksport dataset yang berisi seluruh penjualan"
   ]
  },
  {
   "cell_type": "code",
   "execution_count": 7,
   "id": "20cf6503",
   "metadata": {},
   "outputs": [],
   "source": [
    "semua_data.to_csv(\"semua_data.csv\", index=False)"
   ]
  },
  {
   "cell_type": "code",
   "execution_count": 8,
   "id": "c02a66a8",
   "metadata": {},
   "outputs": [],
   "source": [
    "## Membaca dataset baru"
   ]
  },
  {
   "cell_type": "code",
   "execution_count": 9,
   "id": "a485ef46",
   "metadata": {},
   "outputs": [
    {
     "data": {
      "text/html": [
       "<div>\n",
       "<style scoped>\n",
       "    .dataframe tbody tr th:only-of-type {\n",
       "        vertical-align: middle;\n",
       "    }\n",
       "\n",
       "    .dataframe tbody tr th {\n",
       "        vertical-align: top;\n",
       "    }\n",
       "\n",
       "    .dataframe thead th {\n",
       "        text-align: right;\n",
       "    }\n",
       "</style>\n",
       "<table border=\"1\" class=\"dataframe\">\n",
       "  <thead>\n",
       "    <tr style=\"text-align: right;\">\n",
       "      <th></th>\n",
       "      <th>Order ID</th>\n",
       "      <th>Product</th>\n",
       "      <th>Quantity Ordered</th>\n",
       "      <th>Price Each</th>\n",
       "      <th>Order Date</th>\n",
       "      <th>Purchase Address</th>\n",
       "    </tr>\n",
       "  </thead>\n",
       "  <tbody>\n",
       "    <tr>\n",
       "      <th>0</th>\n",
       "      <td>176558</td>\n",
       "      <td>USB-C Charging Cable</td>\n",
       "      <td>2</td>\n",
       "      <td>11.95</td>\n",
       "      <td>04/19/19 08:46</td>\n",
       "      <td>917 1st St, Dallas, TX 75001</td>\n",
       "    </tr>\n",
       "    <tr>\n",
       "      <th>1</th>\n",
       "      <td>NaN</td>\n",
       "      <td>NaN</td>\n",
       "      <td>NaN</td>\n",
       "      <td>NaN</td>\n",
       "      <td>NaN</td>\n",
       "      <td>NaN</td>\n",
       "    </tr>\n",
       "    <tr>\n",
       "      <th>2</th>\n",
       "      <td>176559</td>\n",
       "      <td>Bose SoundSport Headphones</td>\n",
       "      <td>1</td>\n",
       "      <td>99.99</td>\n",
       "      <td>04/07/19 22:30</td>\n",
       "      <td>682 Chestnut St, Boston, MA 02215</td>\n",
       "    </tr>\n",
       "    <tr>\n",
       "      <th>3</th>\n",
       "      <td>176560</td>\n",
       "      <td>Google Phone</td>\n",
       "      <td>1</td>\n",
       "      <td>600</td>\n",
       "      <td>04/12/19 14:38</td>\n",
       "      <td>669 Spruce St, Los Angeles, CA 90001</td>\n",
       "    </tr>\n",
       "    <tr>\n",
       "      <th>4</th>\n",
       "      <td>176560</td>\n",
       "      <td>Wired Headphones</td>\n",
       "      <td>1</td>\n",
       "      <td>11.99</td>\n",
       "      <td>04/12/19 14:38</td>\n",
       "      <td>669 Spruce St, Los Angeles, CA 90001</td>\n",
       "    </tr>\n",
       "  </tbody>\n",
       "</table>\n",
       "</div>"
      ],
      "text/plain": [
       "  Order ID                     Product Quantity Ordered Price Each  \\\n",
       "0   176558        USB-C Charging Cable                2      11.95   \n",
       "1      NaN                         NaN              NaN        NaN   \n",
       "2   176559  Bose SoundSport Headphones                1      99.99   \n",
       "3   176560                Google Phone                1        600   \n",
       "4   176560            Wired Headphones                1      11.99   \n",
       "\n",
       "       Order Date                      Purchase Address  \n",
       "0  04/19/19 08:46          917 1st St, Dallas, TX 75001  \n",
       "1             NaN                                   NaN  \n",
       "2  04/07/19 22:30     682 Chestnut St, Boston, MA 02215  \n",
       "3  04/12/19 14:38  669 Spruce St, Los Angeles, CA 90001  \n",
       "4  04/12/19 14:38  669 Spruce St, Los Angeles, CA 90001  "
      ]
     },
     "execution_count": 9,
     "metadata": {},
     "output_type": "execute_result"
    }
   ],
   "source": [
    "semua_data = pd.read_csv(\"semua_data.csv\")\n",
    "semua_data.head()\n"
   ]
  },
  {
   "cell_type": "code",
   "execution_count": 10,
   "id": "83848014",
   "metadata": {},
   "outputs": [],
   "source": [
    "## Melakukan data exploration, cleaning, formatting, normalization, binning"
   ]
  },
  {
   "cell_type": "code",
   "execution_count": 11,
   "id": "af661e31",
   "metadata": {},
   "outputs": [],
   "source": [
    "# Mengecek dataset apakah terdapat data kosong/NaN/Null values"
   ]
  },
  {
   "cell_type": "code",
   "execution_count": 12,
   "id": "a162faf4",
   "metadata": {},
   "outputs": [
    {
     "data": {
      "text/html": [
       "<div>\n",
       "<style scoped>\n",
       "    .dataframe tbody tr th:only-of-type {\n",
       "        vertical-align: middle;\n",
       "    }\n",
       "\n",
       "    .dataframe tbody tr th {\n",
       "        vertical-align: top;\n",
       "    }\n",
       "\n",
       "    .dataframe thead th {\n",
       "        text-align: right;\n",
       "    }\n",
       "</style>\n",
       "<table border=\"1\" class=\"dataframe\">\n",
       "  <thead>\n",
       "    <tr style=\"text-align: right;\">\n",
       "      <th></th>\n",
       "      <th>Order ID</th>\n",
       "      <th>Product</th>\n",
       "      <th>Quantity Ordered</th>\n",
       "      <th>Price Each</th>\n",
       "      <th>Order Date</th>\n",
       "      <th>Purchase Address</th>\n",
       "    </tr>\n",
       "  </thead>\n",
       "  <tbody>\n",
       "    <tr>\n",
       "      <th>1</th>\n",
       "      <td>NaN</td>\n",
       "      <td>NaN</td>\n",
       "      <td>NaN</td>\n",
       "      <td>NaN</td>\n",
       "      <td>NaN</td>\n",
       "      <td>NaN</td>\n",
       "    </tr>\n",
       "    <tr>\n",
       "      <th>356</th>\n",
       "      <td>NaN</td>\n",
       "      <td>NaN</td>\n",
       "      <td>NaN</td>\n",
       "      <td>NaN</td>\n",
       "      <td>NaN</td>\n",
       "      <td>NaN</td>\n",
       "    </tr>\n",
       "    <tr>\n",
       "      <th>735</th>\n",
       "      <td>NaN</td>\n",
       "      <td>NaN</td>\n",
       "      <td>NaN</td>\n",
       "      <td>NaN</td>\n",
       "      <td>NaN</td>\n",
       "      <td>NaN</td>\n",
       "    </tr>\n",
       "    <tr>\n",
       "      <th>1433</th>\n",
       "      <td>NaN</td>\n",
       "      <td>NaN</td>\n",
       "      <td>NaN</td>\n",
       "      <td>NaN</td>\n",
       "      <td>NaN</td>\n",
       "      <td>NaN</td>\n",
       "    </tr>\n",
       "    <tr>\n",
       "      <th>1553</th>\n",
       "      <td>NaN</td>\n",
       "      <td>NaN</td>\n",
       "      <td>NaN</td>\n",
       "      <td>NaN</td>\n",
       "      <td>NaN</td>\n",
       "      <td>NaN</td>\n",
       "    </tr>\n",
       "    <tr>\n",
       "      <th>1571</th>\n",
       "      <td>NaN</td>\n",
       "      <td>NaN</td>\n",
       "      <td>NaN</td>\n",
       "      <td>NaN</td>\n",
       "      <td>NaN</td>\n",
       "      <td>NaN</td>\n",
       "    </tr>\n",
       "    <tr>\n",
       "      <th>1992</th>\n",
       "      <td>NaN</td>\n",
       "      <td>NaN</td>\n",
       "      <td>NaN</td>\n",
       "      <td>NaN</td>\n",
       "      <td>NaN</td>\n",
       "      <td>NaN</td>\n",
       "    </tr>\n",
       "    <tr>\n",
       "      <th>2265</th>\n",
       "      <td>NaN</td>\n",
       "      <td>NaN</td>\n",
       "      <td>NaN</td>\n",
       "      <td>NaN</td>\n",
       "      <td>NaN</td>\n",
       "      <td>NaN</td>\n",
       "    </tr>\n",
       "    <tr>\n",
       "      <th>2798</th>\n",
       "      <td>NaN</td>\n",
       "      <td>NaN</td>\n",
       "      <td>NaN</td>\n",
       "      <td>NaN</td>\n",
       "      <td>NaN</td>\n",
       "      <td>NaN</td>\n",
       "    </tr>\n",
       "    <tr>\n",
       "      <th>3024</th>\n",
       "      <td>NaN</td>\n",
       "      <td>NaN</td>\n",
       "      <td>NaN</td>\n",
       "      <td>NaN</td>\n",
       "      <td>NaN</td>\n",
       "      <td>NaN</td>\n",
       "    </tr>\n",
       "  </tbody>\n",
       "</table>\n",
       "</div>"
      ],
      "text/plain": [
       "     Order ID Product Quantity Ordered Price Each Order Date Purchase Address\n",
       "1         NaN     NaN              NaN        NaN        NaN              NaN\n",
       "356       NaN     NaN              NaN        NaN        NaN              NaN\n",
       "735       NaN     NaN              NaN        NaN        NaN              NaN\n",
       "1433      NaN     NaN              NaN        NaN        NaN              NaN\n",
       "1553      NaN     NaN              NaN        NaN        NaN              NaN\n",
       "1571      NaN     NaN              NaN        NaN        NaN              NaN\n",
       "1992      NaN     NaN              NaN        NaN        NaN              NaN\n",
       "2265      NaN     NaN              NaN        NaN        NaN              NaN\n",
       "2798      NaN     NaN              NaN        NaN        NaN              NaN\n",
       "3024      NaN     NaN              NaN        NaN        NaN              NaN"
      ]
     },
     "execution_count": 12,
     "metadata": {},
     "output_type": "execute_result"
    }
   ],
   "source": [
    "null_values = semua_data[semua_data.isna().any(axis=1)]\n",
    "null_values.head(10)"
   ]
  },
  {
   "cell_type": "code",
   "execution_count": 13,
   "id": "f8defb1d",
   "metadata": {},
   "outputs": [],
   "source": [
    "# Menghapus baris data yang memiliki values NaN pada setiap kolomnya"
   ]
  },
  {
   "cell_type": "code",
   "execution_count": 14,
   "id": "ba6652c2",
   "metadata": {},
   "outputs": [],
   "source": [
    "semua_data = semua_data.dropna(how=\"all\")"
   ]
  },
  {
   "cell_type": "code",
   "execution_count": 15,
   "id": "5eea2f7b",
   "metadata": {},
   "outputs": [],
   "source": [
    "# Mengecek data yang tidak seharusnya atau duplikat data lain"
   ]
  },
  {
   "cell_type": "code",
   "execution_count": 16,
   "id": "07e87355",
   "metadata": {},
   "outputs": [
    {
     "data": {
      "text/html": [
       "<div>\n",
       "<style scoped>\n",
       "    .dataframe tbody tr th:only-of-type {\n",
       "        vertical-align: middle;\n",
       "    }\n",
       "\n",
       "    .dataframe tbody tr th {\n",
       "        vertical-align: top;\n",
       "    }\n",
       "\n",
       "    .dataframe thead th {\n",
       "        text-align: right;\n",
       "    }\n",
       "</style>\n",
       "<table border=\"1\" class=\"dataframe\">\n",
       "  <thead>\n",
       "    <tr style=\"text-align: right;\">\n",
       "      <th></th>\n",
       "      <th>Order ID</th>\n",
       "      <th>Product</th>\n",
       "      <th>Quantity Ordered</th>\n",
       "      <th>Price Each</th>\n",
       "      <th>Order Date</th>\n",
       "      <th>Purchase Address</th>\n",
       "    </tr>\n",
       "  </thead>\n",
       "  <tbody>\n",
       "    <tr>\n",
       "      <th>519</th>\n",
       "      <td>Order ID</td>\n",
       "      <td>Product</td>\n",
       "      <td>Quantity Ordered</td>\n",
       "      <td>Price Each</td>\n",
       "      <td>Order Date</td>\n",
       "      <td>Purchase Address</td>\n",
       "    </tr>\n",
       "    <tr>\n",
       "      <th>1149</th>\n",
       "      <td>Order ID</td>\n",
       "      <td>Product</td>\n",
       "      <td>Quantity Ordered</td>\n",
       "      <td>Price Each</td>\n",
       "      <td>Order Date</td>\n",
       "      <td>Purchase Address</td>\n",
       "    </tr>\n",
       "    <tr>\n",
       "      <th>1155</th>\n",
       "      <td>Order ID</td>\n",
       "      <td>Product</td>\n",
       "      <td>Quantity Ordered</td>\n",
       "      <td>Price Each</td>\n",
       "      <td>Order Date</td>\n",
       "      <td>Purchase Address</td>\n",
       "    </tr>\n",
       "    <tr>\n",
       "      <th>2878</th>\n",
       "      <td>Order ID</td>\n",
       "      <td>Product</td>\n",
       "      <td>Quantity Ordered</td>\n",
       "      <td>Price Each</td>\n",
       "      <td>Order Date</td>\n",
       "      <td>Purchase Address</td>\n",
       "    </tr>\n",
       "    <tr>\n",
       "      <th>2893</th>\n",
       "      <td>Order ID</td>\n",
       "      <td>Product</td>\n",
       "      <td>Quantity Ordered</td>\n",
       "      <td>Price Each</td>\n",
       "      <td>Order Date</td>\n",
       "      <td>Purchase Address</td>\n",
       "    </tr>\n",
       "  </tbody>\n",
       "</table>\n",
       "</div>"
      ],
      "text/plain": [
       "      Order ID  Product  Quantity Ordered  Price Each  Order Date  \\\n",
       "519   Order ID  Product  Quantity Ordered  Price Each  Order Date   \n",
       "1149  Order ID  Product  Quantity Ordered  Price Each  Order Date   \n",
       "1155  Order ID  Product  Quantity Ordered  Price Each  Order Date   \n",
       "2878  Order ID  Product  Quantity Ordered  Price Each  Order Date   \n",
       "2893  Order ID  Product  Quantity Ordered  Price Each  Order Date   \n",
       "\n",
       "      Purchase Address  \n",
       "519   Purchase Address  \n",
       "1149  Purchase Address  \n",
       "1155  Purchase Address  \n",
       "2878  Purchase Address  \n",
       "2893  Purchase Address  "
      ]
     },
     "execution_count": 16,
     "metadata": {},
     "output_type": "execute_result"
    }
   ],
   "source": [
    "data_duplikasi = semua_data[semua_data['Order Date'].str[0:2] == 'Or']\n",
    "data_duplikasi.head()"
   ]
  },
  {
   "cell_type": "code",
   "execution_count": 17,
   "id": "d3cca4d1",
   "metadata": {},
   "outputs": [],
   "source": [
    "# Memperbaharui dataset untuk menghilangkan data duplikat seperti di atas"
   ]
  },
  {
   "cell_type": "code",
   "execution_count": 18,
   "id": "b3b3b6be",
   "metadata": {},
   "outputs": [],
   "source": [
    "semua_data = semua_data[semua_data['Order Date'].str[0:2] != 'Or']"
   ]
  },
  {
   "cell_type": "code",
   "execution_count": 19,
   "id": "5a05749e",
   "metadata": {},
   "outputs": [],
   "source": [
    "# Menkonversi tipe data string ke nilai numeric untuk kolom tertentu"
   ]
  },
  {
   "cell_type": "code",
   "execution_count": 20,
   "id": "0defaac1",
   "metadata": {},
   "outputs": [],
   "source": [
    "semua_data['Quantity Ordered'] = pd.to_numeric(semua_data['Quantity Ordered'])\n",
    "semua_data['Price Each'] = pd.to_numeric(semua_data['Price Each'])"
   ]
  },
  {
   "cell_type": "code",
   "execution_count": 21,
   "id": "1127ad60",
   "metadata": {},
   "outputs": [],
   "source": [
    "#### Persiapan untuk pertanyaan 1: Kota apa yang memberikan penjualan terbanyak selama satu tahun?\n",
    "## Kita perlu kolom baru yaitu total_sales dan city"
   ]
  },
  {
   "cell_type": "code",
   "execution_count": 22,
   "id": "76272cc8",
   "metadata": {},
   "outputs": [
    {
     "data": {
      "text/html": [
       "<div>\n",
       "<style scoped>\n",
       "    .dataframe tbody tr th:only-of-type {\n",
       "        vertical-align: middle;\n",
       "    }\n",
       "\n",
       "    .dataframe tbody tr th {\n",
       "        vertical-align: top;\n",
       "    }\n",
       "\n",
       "    .dataframe thead th {\n",
       "        text-align: right;\n",
       "    }\n",
       "</style>\n",
       "<table border=\"1\" class=\"dataframe\">\n",
       "  <thead>\n",
       "    <tr style=\"text-align: right;\">\n",
       "      <th></th>\n",
       "      <th>Order ID</th>\n",
       "      <th>Product</th>\n",
       "      <th>Quantity Ordered</th>\n",
       "      <th>Price Each</th>\n",
       "      <th>Order Date</th>\n",
       "      <th>Purchase Address</th>\n",
       "      <th>total_sales</th>\n",
       "      <th>city</th>\n",
       "    </tr>\n",
       "  </thead>\n",
       "  <tbody>\n",
       "    <tr>\n",
       "      <th>0</th>\n",
       "      <td>176558</td>\n",
       "      <td>USB-C Charging Cable</td>\n",
       "      <td>2</td>\n",
       "      <td>11.95</td>\n",
       "      <td>04/19/19 08:46</td>\n",
       "      <td>917 1st St, Dallas, TX 75001</td>\n",
       "      <td>23.90</td>\n",
       "      <td>Dallas TX</td>\n",
       "    </tr>\n",
       "    <tr>\n",
       "      <th>2</th>\n",
       "      <td>176559</td>\n",
       "      <td>Bose SoundSport Headphones</td>\n",
       "      <td>1</td>\n",
       "      <td>99.99</td>\n",
       "      <td>04/07/19 22:30</td>\n",
       "      <td>682 Chestnut St, Boston, MA 02215</td>\n",
       "      <td>99.99</td>\n",
       "      <td>Boston MA</td>\n",
       "    </tr>\n",
       "    <tr>\n",
       "      <th>3</th>\n",
       "      <td>176560</td>\n",
       "      <td>Google Phone</td>\n",
       "      <td>1</td>\n",
       "      <td>600.00</td>\n",
       "      <td>04/12/19 14:38</td>\n",
       "      <td>669 Spruce St, Los Angeles, CA 90001</td>\n",
       "      <td>600.00</td>\n",
       "      <td>Los Angeles CA</td>\n",
       "    </tr>\n",
       "    <tr>\n",
       "      <th>4</th>\n",
       "      <td>176560</td>\n",
       "      <td>Wired Headphones</td>\n",
       "      <td>1</td>\n",
       "      <td>11.99</td>\n",
       "      <td>04/12/19 14:38</td>\n",
       "      <td>669 Spruce St, Los Angeles, CA 90001</td>\n",
       "      <td>11.99</td>\n",
       "      <td>Los Angeles CA</td>\n",
       "    </tr>\n",
       "    <tr>\n",
       "      <th>5</th>\n",
       "      <td>176561</td>\n",
       "      <td>Wired Headphones</td>\n",
       "      <td>1</td>\n",
       "      <td>11.99</td>\n",
       "      <td>04/30/19 09:27</td>\n",
       "      <td>333 8th St, Los Angeles, CA 90001</td>\n",
       "      <td>11.99</td>\n",
       "      <td>Los Angeles CA</td>\n",
       "    </tr>\n",
       "  </tbody>\n",
       "</table>\n",
       "</div>"
      ],
      "text/plain": [
       "  Order ID                     Product  Quantity Ordered  Price Each  \\\n",
       "0   176558        USB-C Charging Cable                 2       11.95   \n",
       "2   176559  Bose SoundSport Headphones                 1       99.99   \n",
       "3   176560                Google Phone                 1      600.00   \n",
       "4   176560            Wired Headphones                 1       11.99   \n",
       "5   176561            Wired Headphones                 1       11.99   \n",
       "\n",
       "       Order Date                      Purchase Address  total_sales  \\\n",
       "0  04/19/19 08:46          917 1st St, Dallas, TX 75001        23.90   \n",
       "2  04/07/19 22:30     682 Chestnut St, Boston, MA 02215        99.99   \n",
       "3  04/12/19 14:38  669 Spruce St, Los Angeles, CA 90001       600.00   \n",
       "4  04/12/19 14:38  669 Spruce St, Los Angeles, CA 90001        11.99   \n",
       "5  04/30/19 09:27     333 8th St, Los Angeles, CA 90001        11.99   \n",
       "\n",
       "              city  \n",
       "0        Dallas TX  \n",
       "2        Boston MA  \n",
       "3   Los Angeles CA  \n",
       "4   Los Angeles CA  \n",
       "5   Los Angeles CA  "
      ]
     },
     "execution_count": 22,
     "metadata": {},
     "output_type": "execute_result"
    }
   ],
   "source": [
    "semua_data['total_sales'] = semua_data['Quantity Ordered'] * semua_data['Price Each']\n",
    "\n",
    "def get_city(alamat):\n",
    "    return alamat.split(',')[1]\n",
    "\n",
    "def get_state(alamat):\n",
    "    return alamat.split(',')[2].split(' ')[1]\n",
    "\n",
    "semua_data['city'] = semua_data['Purchase Address'].apply(lambda x: get_city(x) + ' ' + get_state(x))\n",
    "semua_data.head()"
   ]
  },
  {
   "cell_type": "code",
   "execution_count": 23,
   "id": "7ca5c7d4",
   "metadata": {},
   "outputs": [],
   "source": [
    "## Pertanyaan 1: Kota apa yang memberikan penjualan terbanyak selama satu tahun?"
   ]
  },
  {
   "cell_type": "code",
   "execution_count": 24,
   "id": "94ffc632",
   "metadata": {},
   "outputs": [
    {
     "data": {
      "text/html": [
       "<div>\n",
       "<style scoped>\n",
       "    .dataframe tbody tr th:only-of-type {\n",
       "        vertical-align: middle;\n",
       "    }\n",
       "\n",
       "    .dataframe tbody tr th {\n",
       "        vertical-align: top;\n",
       "    }\n",
       "\n",
       "    .dataframe thead th {\n",
       "        text-align: right;\n",
       "    }\n",
       "</style>\n",
       "<table border=\"1\" class=\"dataframe\">\n",
       "  <thead>\n",
       "    <tr style=\"text-align: right;\">\n",
       "      <th></th>\n",
       "      <th>Quantity Ordered</th>\n",
       "      <th>Price Each</th>\n",
       "      <th>total_sales</th>\n",
       "    </tr>\n",
       "    <tr>\n",
       "      <th>city</th>\n",
       "      <th></th>\n",
       "      <th></th>\n",
       "      <th></th>\n",
       "    </tr>\n",
       "  </thead>\n",
       "  <tbody>\n",
       "    <tr>\n",
       "      <th>Atlanta GA</th>\n",
       "      <td>16602</td>\n",
       "      <td>2779908.20</td>\n",
       "      <td>2795498.58</td>\n",
       "    </tr>\n",
       "    <tr>\n",
       "      <th>Austin TX</th>\n",
       "      <td>11153</td>\n",
       "      <td>1809873.61</td>\n",
       "      <td>1819581.75</td>\n",
       "    </tr>\n",
       "    <tr>\n",
       "      <th>Boston MA</th>\n",
       "      <td>22528</td>\n",
       "      <td>3637409.77</td>\n",
       "      <td>3661642.01</td>\n",
       "    </tr>\n",
       "    <tr>\n",
       "      <th>Dallas TX</th>\n",
       "      <td>16730</td>\n",
       "      <td>2752627.82</td>\n",
       "      <td>2767975.40</td>\n",
       "    </tr>\n",
       "    <tr>\n",
       "      <th>Los Angeles CA</th>\n",
       "      <td>33289</td>\n",
       "      <td>5421435.23</td>\n",
       "      <td>5452570.80</td>\n",
       "    </tr>\n",
       "    <tr>\n",
       "      <th>New York City NY</th>\n",
       "      <td>27932</td>\n",
       "      <td>4635370.83</td>\n",
       "      <td>4664317.43</td>\n",
       "    </tr>\n",
       "    <tr>\n",
       "      <th>Portland ME</th>\n",
       "      <td>2750</td>\n",
       "      <td>447189.25</td>\n",
       "      <td>449758.27</td>\n",
       "    </tr>\n",
       "    <tr>\n",
       "      <th>Portland OR</th>\n",
       "      <td>11303</td>\n",
       "      <td>1860558.22</td>\n",
       "      <td>1870732.34</td>\n",
       "    </tr>\n",
       "    <tr>\n",
       "      <th>San Francisco CA</th>\n",
       "      <td>50239</td>\n",
       "      <td>8211461.74</td>\n",
       "      <td>8262203.91</td>\n",
       "    </tr>\n",
       "    <tr>\n",
       "      <th>Seattle WA</th>\n",
       "      <td>16553</td>\n",
       "      <td>2733296.01</td>\n",
       "      <td>2747755.48</td>\n",
       "    </tr>\n",
       "  </tbody>\n",
       "</table>\n",
       "</div>"
      ],
      "text/plain": [
       "                   Quantity Ordered  Price Each  total_sales\n",
       "city                                                        \n",
       " Atlanta GA                   16602  2779908.20   2795498.58\n",
       " Austin TX                    11153  1809873.61   1819581.75\n",
       " Boston MA                    22528  3637409.77   3661642.01\n",
       " Dallas TX                    16730  2752627.82   2767975.40\n",
       " Los Angeles CA               33289  5421435.23   5452570.80\n",
       " New York City NY             27932  4635370.83   4664317.43\n",
       " Portland ME                   2750   447189.25    449758.27\n",
       " Portland OR                  11303  1860558.22   1870732.34\n",
       " San Francisco CA             50239  8211461.74   8262203.91\n",
       " Seattle WA                   16553  2733296.01   2747755.48"
      ]
     },
     "execution_count": 24,
     "metadata": {},
     "output_type": "execute_result"
    }
   ],
   "source": [
    "hasil = semua_data.groupby('city').sum()\n",
    "hasil"
   ]
  },
  {
   "cell_type": "code",
   "execution_count": 25,
   "id": "85b5f0f9",
   "metadata": {},
   "outputs": [
    {
     "data": {
      "text/plain": [
       "<function matplotlib.pyplot.show(close=None, block=None)>"
      ]
     },
     "execution_count": 25,
     "metadata": {},
     "output_type": "execute_result"
    },
    {
     "data": {
      "image/png": "[encoded data removed]",
      "text/plain": [
       "<Figure size 864x432 with 1 Axes>"
      ]
     },
     "metadata": {},
     "output_type": "display_data"
    }
   ],
   "source": [
    "kota = [kota for kota, df in semua_data.groupby('city')]\n",
    "\n",
    "plt.figure(figsize = (12, 6))\n",
    "plt.bar(kota,hasil['total_sales'])\n",
    "plt.xticks(kota, rotation='vertical')\n",
    "plt.ylabel('Sales dalam US Dollar')\n",
    "plt.xlabel('Nama Kota')\n",
    "plt.show"
   ]
  },
  {
   "cell_type": "code",
   "execution_count": 26,
   "id": "cda59986",
   "metadata": {},
   "outputs": [],
   "source": [
    "## Pertanyaan 1: Kota apa yang memberikan penjualan terbanyak selama satu tahun?\n",
    "## Jawaban untuk pertanyaan 1 yaitu San Francisco CA"
   ]
  },
  {
   "cell_type": "code",
   "execution_count": 27,
   "id": "f0281ff7",
   "metadata": {},
   "outputs": [],
   "source": [
    "#### Persiapan untuk pertanyaan 2: Pada bulan apakah penjualan terbanyak dan berapa yang didapatkan?\n",
    "## Kita perlu kolom baru yaitu month"
   ]
  },
  {
   "cell_type": "code",
   "execution_count": 28,
   "id": "4db284f8",
   "metadata": {},
   "outputs": [
    {
     "data": {
      "text/html": [
       "<div>\n",
       "<style scoped>\n",
       "    .dataframe tbody tr th:only-of-type {\n",
       "        vertical-align: middle;\n",
       "    }\n",
       "\n",
       "    .dataframe tbody tr th {\n",
       "        vertical-align: top;\n",
       "    }\n",
       "\n",
       "    .dataframe thead th {\n",
       "        text-align: right;\n",
       "    }\n",
       "</style>\n",
       "<table border=\"1\" class=\"dataframe\">\n",
       "  <thead>\n",
       "    <tr style=\"text-align: right;\">\n",
       "      <th></th>\n",
       "      <th>Order ID</th>\n",
       "      <th>Product</th>\n",
       "      <th>Quantity Ordered</th>\n",
       "      <th>Price Each</th>\n",
       "      <th>Order Date</th>\n",
       "      <th>Purchase Address</th>\n",
       "      <th>total_sales</th>\n",
       "      <th>city</th>\n",
       "      <th>month</th>\n",
       "    </tr>\n",
       "  </thead>\n",
       "  <tbody>\n",
       "    <tr>\n",
       "      <th>0</th>\n",
       "      <td>176558</td>\n",
       "      <td>USB-C Charging Cable</td>\n",
       "      <td>2</td>\n",
       "      <td>11.95</td>\n",
       "      <td>04/19/19 08:46</td>\n",
       "      <td>917 1st St, Dallas, TX 75001</td>\n",
       "      <td>23.90</td>\n",
       "      <td>Dallas TX</td>\n",
       "      <td>4</td>\n",
       "    </tr>\n",
       "    <tr>\n",
       "      <th>2</th>\n",
       "      <td>176559</td>\n",
       "      <td>Bose SoundSport Headphones</td>\n",
       "      <td>1</td>\n",
       "      <td>99.99</td>\n",
       "      <td>04/07/19 22:30</td>\n",
       "      <td>682 Chestnut St, Boston, MA 02215</td>\n",
       "      <td>99.99</td>\n",
       "      <td>Boston MA</td>\n",
       "      <td>4</td>\n",
       "    </tr>\n",
       "    <tr>\n",
       "      <th>3</th>\n",
       "      <td>176560</td>\n",
       "      <td>Google Phone</td>\n",
       "      <td>1</td>\n",
       "      <td>600.00</td>\n",
       "      <td>04/12/19 14:38</td>\n",
       "      <td>669 Spruce St, Los Angeles, CA 90001</td>\n",
       "      <td>600.00</td>\n",
       "      <td>Los Angeles CA</td>\n",
       "      <td>4</td>\n",
       "    </tr>\n",
       "    <tr>\n",
       "      <th>4</th>\n",
       "      <td>176560</td>\n",
       "      <td>Wired Headphones</td>\n",
       "      <td>1</td>\n",
       "      <td>11.99</td>\n",
       "      <td>04/12/19 14:38</td>\n",
       "      <td>669 Spruce St, Los Angeles, CA 90001</td>\n",
       "      <td>11.99</td>\n",
       "      <td>Los Angeles CA</td>\n",
       "      <td>4</td>\n",
       "    </tr>\n",
       "    <tr>\n",
       "      <th>5</th>\n",
       "      <td>176561</td>\n",
       "      <td>Wired Headphones</td>\n",
       "      <td>1</td>\n",
       "      <td>11.99</td>\n",
       "      <td>04/30/19 09:27</td>\n",
       "      <td>333 8th St, Los Angeles, CA 90001</td>\n",
       "      <td>11.99</td>\n",
       "      <td>Los Angeles CA</td>\n",
       "      <td>4</td>\n",
       "    </tr>\n",
       "  </tbody>\n",
       "</table>\n",
       "</div>"
      ],
      "text/plain": [
       "  Order ID                     Product  Quantity Ordered  Price Each  \\\n",
       "0   176558        USB-C Charging Cable                 2       11.95   \n",
       "2   176559  Bose SoundSport Headphones                 1       99.99   \n",
       "3   176560                Google Phone                 1      600.00   \n",
       "4   176560            Wired Headphones                 1       11.99   \n",
       "5   176561            Wired Headphones                 1       11.99   \n",
       "\n",
       "       Order Date                      Purchase Address  total_sales  \\\n",
       "0  04/19/19 08:46          917 1st St, Dallas, TX 75001        23.90   \n",
       "2  04/07/19 22:30     682 Chestnut St, Boston, MA 02215        99.99   \n",
       "3  04/12/19 14:38  669 Spruce St, Los Angeles, CA 90001       600.00   \n",
       "4  04/12/19 14:38  669 Spruce St, Los Angeles, CA 90001        11.99   \n",
       "5  04/30/19 09:27     333 8th St, Los Angeles, CA 90001        11.99   \n",
       "\n",
       "              city  month  \n",
       "0        Dallas TX      4  \n",
       "2        Boston MA      4  \n",
       "3   Los Angeles CA      4  \n",
       "4   Los Angeles CA      4  \n",
       "5   Los Angeles CA      4  "
      ]
     },
     "execution_count": 28,
     "metadata": {},
     "output_type": "execute_result"
    }
   ],
   "source": [
    "semua_data['month'] = semua_data['Order Date'].str[0:2]\n",
    "semua_data['month'] = semua_data['month'].astype('int32')\n",
    "semua_data.head()"
   ]
  },
  {
   "cell_type": "code",
   "execution_count": 29,
   "id": "cd6b5d2e",
   "metadata": {},
   "outputs": [],
   "source": [
    "## Pertanyaan 2: Pada bulan apakah penjualan terbanyak dan berapa yang didapatkan?"
   ]
  },
  {
   "cell_type": "code",
   "execution_count": 30,
   "id": "f679da5f",
   "metadata": {},
   "outputs": [
    {
     "data": {
      "text/html": [
       "<div>\n",
       "<style scoped>\n",
       "    .dataframe tbody tr th:only-of-type {\n",
       "        vertical-align: middle;\n",
       "    }\n",
       "\n",
       "    .dataframe tbody tr th {\n",
       "        vertical-align: top;\n",
       "    }\n",
       "\n",
       "    .dataframe thead th {\n",
       "        text-align: right;\n",
       "    }\n",
       "</style>\n",
       "<table border=\"1\" class=\"dataframe\">\n",
       "  <thead>\n",
       "    <tr style=\"text-align: right;\">\n",
       "      <th></th>\n",
       "      <th>Quantity Ordered</th>\n",
       "      <th>Price Each</th>\n",
       "      <th>total_sales</th>\n",
       "    </tr>\n",
       "    <tr>\n",
       "      <th>month</th>\n",
       "      <th></th>\n",
       "      <th></th>\n",
       "      <th></th>\n",
       "    </tr>\n",
       "  </thead>\n",
       "  <tbody>\n",
       "    <tr>\n",
       "      <th>1</th>\n",
       "      <td>10903</td>\n",
       "      <td>1811768.38</td>\n",
       "      <td>1822256.73</td>\n",
       "    </tr>\n",
       "    <tr>\n",
       "      <th>2</th>\n",
       "      <td>13449</td>\n",
       "      <td>2188884.72</td>\n",
       "      <td>2202022.42</td>\n",
       "    </tr>\n",
       "    <tr>\n",
       "      <th>3</th>\n",
       "      <td>17005</td>\n",
       "      <td>2791207.83</td>\n",
       "      <td>2807100.38</td>\n",
       "    </tr>\n",
       "    <tr>\n",
       "      <th>4</th>\n",
       "      <td>20558</td>\n",
       "      <td>3367671.02</td>\n",
       "      <td>3390670.24</td>\n",
       "    </tr>\n",
       "    <tr>\n",
       "      <th>5</th>\n",
       "      <td>18667</td>\n",
       "      <td>3135125.13</td>\n",
       "      <td>3152606.75</td>\n",
       "    </tr>\n",
       "    <tr>\n",
       "      <th>6</th>\n",
       "      <td>15253</td>\n",
       "      <td>2562025.61</td>\n",
       "      <td>2577802.26</td>\n",
       "    </tr>\n",
       "    <tr>\n",
       "      <th>7</th>\n",
       "      <td>16072</td>\n",
       "      <td>2632539.56</td>\n",
       "      <td>2647775.76</td>\n",
       "    </tr>\n",
       "    <tr>\n",
       "      <th>8</th>\n",
       "      <td>13448</td>\n",
       "      <td>2230345.42</td>\n",
       "      <td>2244467.88</td>\n",
       "    </tr>\n",
       "    <tr>\n",
       "      <th>9</th>\n",
       "      <td>13109</td>\n",
       "      <td>2084992.09</td>\n",
       "      <td>2097560.13</td>\n",
       "    </tr>\n",
       "    <tr>\n",
       "      <th>10</th>\n",
       "      <td>22703</td>\n",
       "      <td>3715554.83</td>\n",
       "      <td>3736726.88</td>\n",
       "    </tr>\n",
       "    <tr>\n",
       "      <th>11</th>\n",
       "      <td>19798</td>\n",
       "      <td>3180600.68</td>\n",
       "      <td>3199603.20</td>\n",
       "    </tr>\n",
       "    <tr>\n",
       "      <th>12</th>\n",
       "      <td>28114</td>\n",
       "      <td>4588415.41</td>\n",
       "      <td>4613443.34</td>\n",
       "    </tr>\n",
       "  </tbody>\n",
       "</table>\n",
       "</div>"
      ],
      "text/plain": [
       "       Quantity Ordered  Price Each  total_sales\n",
       "month                                           \n",
       "1                 10903  1811768.38   1822256.73\n",
       "2                 13449  2188884.72   2202022.42\n",
       "3                 17005  2791207.83   2807100.38\n",
       "4                 20558  3367671.02   3390670.24\n",
       "5                 18667  3135125.13   3152606.75\n",
       "6                 15253  2562025.61   2577802.26\n",
       "7                 16072  2632539.56   2647775.76\n",
       "8                 13448  2230345.42   2244467.88\n",
       "9                 13109  2084992.09   2097560.13\n",
       "10                22703  3715554.83   3736726.88\n",
       "11                19798  3180600.68   3199603.20\n",
       "12                28114  4588415.41   4613443.34"
      ]
     },
     "execution_count": 30,
     "metadata": {},
     "output_type": "execute_result"
    }
   ],
   "source": [
    "hasil = semua_data.groupby('month').sum()\n",
    "hasil"
   ]
  },
  {
   "cell_type": "code",
   "execution_count": 31,
   "id": "a0bc93f8",
   "metadata": {},
   "outputs": [
    {
     "data": {
      "text/plain": [
       "<function matplotlib.pyplot.show(close=None, block=None)>"
      ]
     },
     "execution_count": 31,
     "metadata": {},
     "output_type": "execute_result"
    },
    {
     "data": {
      "image/png": "[encoded data removed]",
      "text/plain": [
       "<Figure size 864x432 with 1 Axes>"
      ]
     },
     "metadata": {},
     "output_type": "display_data"
    }
   ],
   "source": [
    "bulan = range(1,13)\n",
    "\n",
    "plt.figure(figsize = (12, 6))\n",
    "plt.bar(bulan, hasil['total_sales'])\n",
    "plt.xticks(bulan)\n",
    "plt.show"
   ]
  },
  {
   "cell_type": "code",
   "execution_count": 32,
   "id": "afdfb79f",
   "metadata": {},
   "outputs": [],
   "source": [
    "## Pertanyaan 2: Pada bulan apakah penjualan terbanyak dan berapa yang didapatkan?\n",
    "## Jawaban untuk pertanyaan 2 yaitu Bulan 12 atau Desember"
   ]
  },
  {
   "cell_type": "code",
   "execution_count": 33,
   "id": "11889aaf",
   "metadata": {},
   "outputs": [],
   "source": [
    "#### Persiapan untuk pertanyaan 3: Pada pukul berapa iklan harus lebih banyak ditampilkan?\n",
    "## Kita perlu kolom baru yaitu kolom hour"
   ]
  },
  {
   "cell_type": "code",
   "execution_count": 34,
   "id": "060f09ce",
   "metadata": {},
   "outputs": [
    {
     "data": {
      "text/html": [
       "<div>\n",
       "<style scoped>\n",
       "    .dataframe tbody tr th:only-of-type {\n",
       "        vertical-align: middle;\n",
       "    }\n",
       "\n",
       "    .dataframe tbody tr th {\n",
       "        vertical-align: top;\n",
       "    }\n",
       "\n",
       "    .dataframe thead th {\n",
       "        text-align: right;\n",
       "    }\n",
       "</style>\n",
       "<table border=\"1\" class=\"dataframe\">\n",
       "  <thead>\n",
       "    <tr style=\"text-align: right;\">\n",
       "      <th></th>\n",
       "      <th>Order ID</th>\n",
       "      <th>Product</th>\n",
       "      <th>Quantity Ordered</th>\n",
       "      <th>Price Each</th>\n",
       "      <th>Order Date</th>\n",
       "      <th>Purchase Address</th>\n",
       "      <th>total_sales</th>\n",
       "      <th>city</th>\n",
       "      <th>month</th>\n",
       "      <th>hour</th>\n",
       "    </tr>\n",
       "  </thead>\n",
       "  <tbody>\n",
       "    <tr>\n",
       "      <th>0</th>\n",
       "      <td>176558</td>\n",
       "      <td>USB-C Charging Cable</td>\n",
       "      <td>2</td>\n",
       "      <td>11.95</td>\n",
       "      <td>2019-04-19 08:46:00</td>\n",
       "      <td>917 1st St, Dallas, TX 75001</td>\n",
       "      <td>23.90</td>\n",
       "      <td>Dallas TX</td>\n",
       "      <td>4</td>\n",
       "      <td>8</td>\n",
       "    </tr>\n",
       "    <tr>\n",
       "      <th>2</th>\n",
       "      <td>176559</td>\n",
       "      <td>Bose SoundSport Headphones</td>\n",
       "      <td>1</td>\n",
       "      <td>99.99</td>\n",
       "      <td>2019-04-07 22:30:00</td>\n",
       "      <td>682 Chestnut St, Boston, MA 02215</td>\n",
       "      <td>99.99</td>\n",
       "      <td>Boston MA</td>\n",
       "      <td>4</td>\n",
       "      <td>22</td>\n",
       "    </tr>\n",
       "    <tr>\n",
       "      <th>3</th>\n",
       "      <td>176560</td>\n",
       "      <td>Google Phone</td>\n",
       "      <td>1</td>\n",
       "      <td>600.00</td>\n",
       "      <td>2019-04-12 14:38:00</td>\n",
       "      <td>669 Spruce St, Los Angeles, CA 90001</td>\n",
       "      <td>600.00</td>\n",
       "      <td>Los Angeles CA</td>\n",
       "      <td>4</td>\n",
       "      <td>14</td>\n",
       "    </tr>\n",
       "    <tr>\n",
       "      <th>4</th>\n",
       "      <td>176560</td>\n",
       "      <td>Wired Headphones</td>\n",
       "      <td>1</td>\n",
       "      <td>11.99</td>\n",
       "      <td>2019-04-12 14:38:00</td>\n",
       "      <td>669 Spruce St, Los Angeles, CA 90001</td>\n",
       "      <td>11.99</td>\n",
       "      <td>Los Angeles CA</td>\n",
       "      <td>4</td>\n",
       "      <td>14</td>\n",
       "    </tr>\n",
       "    <tr>\n",
       "      <th>5</th>\n",
       "      <td>176561</td>\n",
       "      <td>Wired Headphones</td>\n",
       "      <td>1</td>\n",
       "      <td>11.99</td>\n",
       "      <td>2019-04-30 09:27:00</td>\n",
       "      <td>333 8th St, Los Angeles, CA 90001</td>\n",
       "      <td>11.99</td>\n",
       "      <td>Los Angeles CA</td>\n",
       "      <td>4</td>\n",
       "      <td>9</td>\n",
       "    </tr>\n",
       "  </tbody>\n",
       "</table>\n",
       "</div>"
      ],
      "text/plain": [
       "  Order ID                     Product  Quantity Ordered  Price Each  \\\n",
       "0   176558        USB-C Charging Cable                 2       11.95   \n",
       "2   176559  Bose SoundSport Headphones                 1       99.99   \n",
       "3   176560                Google Phone                 1      600.00   \n",
       "4   176560            Wired Headphones                 1       11.99   \n",
       "5   176561            Wired Headphones                 1       11.99   \n",
       "\n",
       "           Order Date                      Purchase Address  total_sales  \\\n",
       "0 2019-04-19 08:46:00          917 1st St, Dallas, TX 75001        23.90   \n",
       "2 2019-04-07 22:30:00     682 Chestnut St, Boston, MA 02215        99.99   \n",
       "3 2019-04-12 14:38:00  669 Spruce St, Los Angeles, CA 90001       600.00   \n",
       "4 2019-04-12 14:38:00  669 Spruce St, Los Angeles, CA 90001        11.99   \n",
       "5 2019-04-30 09:27:00     333 8th St, Los Angeles, CA 90001        11.99   \n",
       "\n",
       "              city  month  hour  \n",
       "0        Dallas TX      4     8  \n",
       "2        Boston MA      4    22  \n",
       "3   Los Angeles CA      4    14  \n",
       "4   Los Angeles CA      4    14  \n",
       "5   Los Angeles CA      4     9  "
      ]
     },
     "execution_count": 34,
     "metadata": {},
     "output_type": "execute_result"
    }
   ],
   "source": [
    "semua_data['Order Date'] = pd.to_datetime(semua_data['Order Date'])\n",
    "semua_data['hour'] = semua_data['Order Date'].dt.hour\n",
    "semua_data.head()"
   ]
  },
  {
   "cell_type": "code",
   "execution_count": 35,
   "id": "abfe7080",
   "metadata": {},
   "outputs": [],
   "source": [
    "## Pertanyaan 3: Pada pukul berapa iklan harus lebih banyak ditampilkan?"
   ]
  },
  {
   "cell_type": "code",
   "execution_count": 36,
   "id": "b47a26fd",
   "metadata": {},
   "outputs": [
    {
     "data": {
      "text/plain": [
       "hour\n",
       "0      3910\n",
       "1      2350\n",
       "2      1243\n",
       "3       831\n",
       "4       854\n",
       "5      1321\n",
       "6      2482\n",
       "7      4011\n",
       "8      6256\n",
       "9      8748\n",
       "10    10944\n",
       "11    12411\n",
       "12    12587\n",
       "13    12129\n",
       "14    10984\n",
       "15    10175\n",
       "16    10384\n",
       "17    10899\n",
       "18    12280\n",
       "19    12905\n",
       "20    12228\n",
       "21    10921\n",
       "22     8822\n",
       "23     6275\n",
       "Name: Order ID, dtype: int64"
      ]
     },
     "execution_count": 36,
     "metadata": {},
     "output_type": "execute_result"
    }
   ],
   "source": [
    "semua_data.groupby('hour').count()['Order ID']"
   ]
  },
  {
   "cell_type": "code",
   "execution_count": 37,
   "id": "77a2abde",
   "metadata": {},
   "outputs": [
    {
     "data": {
      "image/png": "[encoded data removed]",
      "text/plain": [
       "<Figure size 864x432 with 1 Axes>"
      ]
     },
     "metadata": {},
     "output_type": "display_data"
    }
   ],
   "source": [
    "jam = [jam for jam, df in semua_data.groupby('hour')]\n",
    "\n",
    "plt.figure(figsize = (12, 6))\n",
    "plt.plot(jam, semua_data.groupby(['hour']).count())\n",
    "plt.xticks(jam)\n",
    "plt.xlabel('Pukul')\n",
    "plt.ylabel('Jumlah Order')\n",
    "plt.grid()\n",
    "plt.show()"
   ]
  },
  {
   "cell_type": "code",
   "execution_count": 38,
   "id": "a66a755b",
   "metadata": {},
   "outputs": [],
   "source": [
    "## Pertanyaan 3: Pada pukul berapa iklan harus lebih banyak ditampilkan?\n",
    "## Jawaban untuk pertanyaan 3 yaitu pukul 12 pagi dan 7 malam"
   ]
  },
  {
   "cell_type": "code",
   "execution_count": 39,
   "id": "9a4b04f5",
   "metadata": {},
   "outputs": [],
   "source": [
    "#### Persiapan untuk pertanyaan 4: Product apa yang terjual paling banyak?\n",
    "## Melakukan grouping dan count product per order ID"
   ]
  },
  {
   "cell_type": "code",
   "execution_count": 40,
   "id": "d1f923bf",
   "metadata": {},
   "outputs": [
    {
     "data": {
      "text/plain": [
       "Product\n",
       "20in Monitor                   4101\n",
       "27in 4K Gaming Monitor         6230\n",
       "27in FHD Monitor               7507\n",
       "34in Ultrawide Monitor         6181\n",
       "AA Batteries (4-pack)         20577\n",
       "AAA Batteries (4-pack)        20641\n",
       "Apple Airpods Headphones      15549\n",
       "Bose SoundSport Headphones    13325\n",
       "Flatscreen TV                  4800\n",
       "Google Phone                   5525\n",
       "LG Dryer                        646\n",
       "LG Washing Machine              666\n",
       "Lightning Charging Cable      21658\n",
       "Macbook Pro Laptop             4724\n",
       "ThinkPad Laptop                4128\n",
       "USB-C Charging Cable          21903\n",
       "Vareebadd Phone                2065\n",
       "Wired Headphones              18882\n",
       "iPhone                         6842\n",
       "Name: Order ID, dtype: int64"
      ]
     },
     "execution_count": 40,
     "metadata": {},
     "output_type": "execute_result"
    }
   ],
   "source": [
    "hasil = semua_data.groupby('Product').count()['Order ID']\n",
    "hasil"
   ]
  },
  {
   "cell_type": "code",
   "execution_count": 41,
   "id": "0af2a2d1",
   "metadata": {},
   "outputs": [],
   "source": [
    "## Pertanyaan 4: Product apa yang terjual paling banyak?"
   ]
  },
  {
   "cell_type": "code",
   "execution_count": 42,
   "id": "e54e54f6",
   "metadata": {},
   "outputs": [
    {
     "data": {
      "text/plain": [
       "<function matplotlib.pyplot.show(close=None, block=None)>"
      ]
     },
     "execution_count": 42,
     "metadata": {},
     "output_type": "execute_result"
    },
    {
     "data": {
      "image/png": "[encoded data removed]",
      "text/plain": [
       "<Figure size 864x432 with 1 Axes>"
      ]
     },
     "metadata": {},
     "output_type": "display_data"
    }
   ],
   "source": [
    "product = [product for product, df in semua_data.groupby('Product')]\n",
    "\n",
    "plt.figure(figsize = (12, 6))\n",
    "plt.bar(product,hasil)\n",
    "plt.xticks(product, rotation='vertical')\n",
    "plt.ylabel('Product')\n",
    "plt.xlabel('Total Order')\n",
    "plt.show"
   ]
  },
  {
   "cell_type": "code",
   "execution_count": 43,
   "id": "b2734c78",
   "metadata": {},
   "outputs": [],
   "source": [
    "## Pertanyaan 4: Product apa yang terjual paling banyak?\n",
    "## Jawaban untuk pertanyaan 4 yaitu USB-C Charging Cable dan Lightning Charging Cable"
   ]
  },
  {
   "cell_type": "code",
   "execution_count": 44,
   "id": "d8bbcdfc",
   "metadata": {},
   "outputs": [],
   "source": [
    "##### Kesimpulan dari Analisis dengan Python Pandas\n",
    "\n",
    "### Kota yang paling berpengaruh yaitu San Francisco CA dengan total penjualan $8262203.91\n",
    "# Karena San Francisco merupakah salah satu kota terbesar dengan penghasilan perorangnya yang cukup tinggi\n",
    "\n",
    "### Bulan ke-12 memberikan keuntungan terbesar dengan 28114 order dan penjualan $4613443.34\n",
    "# Kemungkinan pada bulan Desember banyak hari besar seperti natal yang mendorong customer untuk membeli barang\n",
    "\n",
    "### Memaksimalkan advertising product pada pukul 12 Siang dan 7 Malam, ada kecenderungan customer memesan banyak barang\n",
    "# Pada kedua pukul itu banyak customer yang memesan barang sehingga bisa dipasang iklan untuk semakin mendorong customer belanja\n",
    "\n",
    "### Product yang paling banyak dibeli oleh customer yaitu USB-C Charging Cable dan Lightning Charging Cable\n",
    "# Product favorit customer adalah USB-C Charging Cable dan Lightning Charging Cable mungkin dikarenakan oleh harganya yang cukup terjangkau dan diperlukan setiap orang"
   ]
  },
  {
   "cell_type": "code",
   "execution_count": 45,
   "id": "ef9c9f0f",
   "metadata": {},
   "outputs": [],
   "source": [
    "semua_data.to_csv(\"data_final.csv\")"
   ]
  }
 ],
 "metadata": {
  "kernelspec": {
   "display_name": "Python 3 (ipykernel)",
   "language": "python",
   "name": "python3"
  },
  "language_info": {
   "codemirror_mode": {
    "name": "ipython",
    "version": 3
   },
   "file_extension": ".py",
   "mimetype": "text/x-python",
   "name": "python",
   "nbconvert_exporter": "python",
   "pygments_lexer": "ipython3",
   "version": "3.9.2"
  }
 },
 "nbformat": 4,
 "nbformat_minor": 5
}
